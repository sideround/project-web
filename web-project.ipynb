{
 "cells": [
  {
   "cell_type": "markdown",
   "metadata": {},
   "source": [
    "#   Project web: How much does your groceries cost in Bitcoin? "
   ]
  },
  {
   "cell_type": "markdown",
   "metadata": {},
   "source": [
    "Isaac Rodriguez\n",
    "\n",
    "*Data Part Time Barcelona Dic 2019*"
   ]
  },
  {
   "cell_type": "markdown",
   "metadata": {},
   "source": [
    "## Content\n",
    "- [Project Description](#project)\n",
    "\n",
    "<a name=\"project\"></a>\n",
    "## Project Description\n",
    "Goal of this project is to choose an API to obtain data from and a web page to scrape, convert it into a Pandas data frame, and export it as a CSV file."
   ]
  },
  {
   "cell_type": "code",
   "execution_count": null,
   "metadata": {},
   "outputs": [],
   "source": []
  },
  {
   "cell_type": "markdown",
   "metadata": {},
   "source": [
    "## Overview"
   ]
  },
  {
   "cell_type": "code",
   "execution_count": 57,
   "metadata": {},
   "outputs": [],
   "source": [
    "import requests\n",
    "from bs4 import BeautifulSoup\n",
    "import pandas as pd"
   ]
  },
  {
   "cell_type": "code",
   "execution_count": 77,
   "metadata": {},
   "outputs": [],
   "source": [
    "def change_format_to_utf8(string):\n",
    "    return string.encode('latin-1', 'replace').decode('utf-8', 'replace')"
   ]
  },
  {
   "cell_type": "markdown",
   "metadata": {},
   "source": [
    "## Get categories"
   ]
  },
  {
   "cell_type": "code",
   "execution_count": 78,
   "metadata": {
    "scrolled": true
   },
   "outputs": [],
   "source": [
    "ulabox_content = requests.get(ulabox_web).content\n",
    "web_soup = BeautifulSoup(ulabox_content, \"lxml\")\n",
    "table = web_soup.find_all(\"ul\", {\"class\": \"list-dropdown\"})[0]\n",
    "\n",
    "rows = table.find_all(\"li\")\n",
    "links = [row.find(\"a\", {\"class\": \"list-dropdown-item__link list-dropdown-item-link | js-pjax js-track-ui js-updatable-track\"}) for row in rows]\n",
    "\n",
    "links = [link.get(\"href\").split(\"?ula_src=\")[0] for link in links if link]\n",
    "rows = [change_format_to_utf8(row.text.strip()) for row in rows]\n",
    "\n",
    "df_categories = pd.DataFrame({\"Categories\": rows[1:], \"Links\": links})"
   ]
  },
  {
   "cell_type": "markdown",
   "metadata": {},
   "source": [
    "## Get subcategories from each category"
   ]
  },
  {
   "cell_type": "code",
   "execution_count": 79,
   "metadata": {},
   "outputs": [],
   "source": [
    "df_subcategories = pd.DataFrame()\n",
    "\n",
    "for index, row in df_categories.iterrows():\n",
    "    ulabox_subcategory_web = ulabox_web + row['Links']\n",
    "    ulabox_content = requests.get(ulabox_subcategory_web).content\n",
    "    ulabox_soap = BeautifulSoup(ulabox_content, \"lxml\")\n",
    "    \n",
    "    table = ulabox_soap.find_all(\"div\", {\"class\": \"col-xs-12 col-sm-4\"})\n",
    "    items = [row.find_all(\"h2\", {\"class\": \"category-item__name epsilon islet brand-face\"}) for row in table]\n",
    "    links = [row.find_all(\"a\") for row in table]\n",
    "    items_name = [change_format_to_utf8(item[0].text) for item in items]\n",
    "    links_name = [item[0].get(\"href\").split(\"?ula_src=\")[0] for item in links]\n",
    "    \n",
    "    for index, item in enumerate(table):\n",
    "        subitems = item.find_all(\"ul\", {\"class\": \"soft-half--sides soft-half--top | unlist\"})\n",
    "        subitems = item.find_all(\"li\", {\"class\": \"selectable-item | weak-text-color milli | flush--bottom\"})\n",
    "        subitems = [change_format_to_utf8(item.text) for item in subitems]\n",
    "        \n",
    "        d = {row['Categories']: [items_name[index], links_name[index]]}\n",
    "        df_subcategories = df_subcategories.append(pd.DataFrame.from_dict(d, orient = 'index', columns= [\"Subcategory\", \"Links\"]))\n",
    "        df_subcategories['Category'] = df_subcategories.index"
   ]
  },
  {
   "cell_type": "markdown",
   "metadata": {},
   "source": [
    "Now index is the category, reset to be numerical."
   ]
  },
  {
   "cell_type": "code",
   "execution_count": null,
   "metadata": {},
   "outputs": [],
   "source": [
    "df_subcategories.reset_index(drop=True)"
   ]
  },
  {
   "cell_type": "markdown",
   "metadata": {},
   "source": [
    "## Get items from each subcategory"
   ]
  },
  {
   "cell_type": "code",
   "execution_count": 62,
   "metadata": {},
   "outputs": [],
   "source": [
    "df_products = pd.DataFrame()\n",
    "\n",
    "for index, row in df_subcategories.iterrows():\n",
    "    ulabox_products_web = ulabox_web + row['Links']\n",
    "    ulabox_content = requests.get(ulabox_products_web).content\n",
    "    ulabox_soap = BeautifulSoup(ulabox_content, \"lxml\")\n",
    "    \n",
    "    if ulabox_soap.find_all(\"section\", {\"class\": \"product-list\"}): \n",
    "        table = ulabox_soap.find_all(\"section\", {\"class\": \"product-list\"})[0]\n",
    "        items = table.find_all(\"div\", {\"class\": \"grid__item m-one-whole t-one-third d-one-third dw-one-quarter | js-product-grid-grid\"})\n",
    "        item = [item.find_all(\"article\")[0] for item in items if len(item.find_all(\"article\")) > 0]\n",
    "\n",
    "        product_price = [item.get(\"data-price\") for item in item]\n",
    "        product_id = [item.get(\"data-product-id\") for item in item]\n",
    "        product_brand = [change_format_to_utf8(item.get(\"data-product-brand\")) for item in item]\n",
    "        product_name = [change_format_to_utf8(item.get(\"data-product-name\")) for item in item]\n",
    "\n",
    "        df_products = df_products.append(pd.DataFrame({\"id\": product_id, \"name\": product_name, \"category\": row['Category'], \"subcategory\": row['Subcategory'], \"price\": product_price, \"currency\": \"EUR\", \"brand\": product_brand}))"
   ]
  },
  {
   "cell_type": "markdown",
   "metadata": {},
   "source": [
    "We convert our price column to float."
   ]
  },
  {
   "cell_type": "code",
   "execution_count": 64,
   "metadata": {},
   "outputs": [],
   "source": [
    "df_products['price'] = df_products['price'].astype(float)"
   ]
  },
  {
   "cell_type": "markdown",
   "metadata": {},
   "source": [
    "We reset our index."
   ]
  },
  {
   "cell_type": "code",
   "execution_count": 65,
   "metadata": {},
   "outputs": [],
   "source": [
    "df_products.reset_index(drop=True, inplace=True)"
   ]
  },
  {
   "cell_type": "markdown",
   "metadata": {},
   "source": [
    "Our final dataset for the web scraping part: "
   ]
  },
  {
   "cell_type": "code",
   "execution_count": 66,
   "metadata": {},
   "outputs": [
    {
     "data": {
      "text/html": [
       "<div>\n",
       "<style scoped>\n",
       "    .dataframe tbody tr th:only-of-type {\n",
       "        vertical-align: middle;\n",
       "    }\n",
       "\n",
       "    .dataframe tbody tr th {\n",
       "        vertical-align: top;\n",
       "    }\n",
       "\n",
       "    .dataframe thead th {\n",
       "        text-align: right;\n",
       "    }\n",
       "</style>\n",
       "<table border=\"1\" class=\"dataframe\">\n",
       "  <thead>\n",
       "    <tr style=\"text-align: right;\">\n",
       "      <th></th>\n",
       "      <th>id</th>\n",
       "      <th>name</th>\n",
       "      <th>category</th>\n",
       "      <th>subcategory</th>\n",
       "      <th>price</th>\n",
       "      <th>currency</th>\n",
       "      <th>brand</th>\n",
       "    </tr>\n",
       "  </thead>\n",
       "  <tbody>\n",
       "    <tr>\n",
       "      <td>0</td>\n",
       "      <td>54521</td>\n",
       "      <td>Ensalada Mezclum Petit Plà 250g</td>\n",
       "      <td>Frescos</td>\n",
       "      <td>Mercado</td>\n",
       "      <td>2.98</td>\n",
       "      <td>EUR</td>\n",
       "      <td>Fruites i  Verdures Lluís Macià</td>\n",
       "    </tr>\n",
       "    <tr>\n",
       "      <td>1</td>\n",
       "      <td>42519</td>\n",
       "      <td>Aguacate Maduro</td>\n",
       "      <td>Frescos</td>\n",
       "      <td>Mercado</td>\n",
       "      <td>3.99</td>\n",
       "      <td>EUR</td>\n",
       "      <td>Fruites i  Verdures Lluís Macià</td>\n",
       "    </tr>\n",
       "    <tr>\n",
       "      <td>2</td>\n",
       "      <td>43876</td>\n",
       "      <td>Plátano de Canarias Verde</td>\n",
       "      <td>Frescos</td>\n",
       "      <td>Mercado</td>\n",
       "      <td>2.47</td>\n",
       "      <td>EUR</td>\n",
       "      <td>Fruites i  Verdures Lluís Macià</td>\n",
       "    </tr>\n",
       "    <tr>\n",
       "      <td>3</td>\n",
       "      <td>42501</td>\n",
       "      <td>Plátano de Canarias Maduro</td>\n",
       "      <td>Frescos</td>\n",
       "      <td>Mercado</td>\n",
       "      <td>2.47</td>\n",
       "      <td>EUR</td>\n",
       "      <td>Fruites i  Verdures Lluís Macià</td>\n",
       "    </tr>\n",
       "    <tr>\n",
       "      <td>4</td>\n",
       "      <td>42535</td>\n",
       "      <td>Fresas de Maresme 500g</td>\n",
       "      <td>Frescos</td>\n",
       "      <td>Mercado</td>\n",
       "      <td>3.98</td>\n",
       "      <td>EUR</td>\n",
       "      <td>Fruites i  Verdures Lluís Macià</td>\n",
       "    </tr>\n",
       "  </tbody>\n",
       "</table>\n",
       "</div>"
      ],
      "text/plain": [
       "      id                             name category subcategory  price  \\\n",
       "0  54521  Ensalada Mezclum Petit Plà 250g  Frescos     Mercado   2.98   \n",
       "1  42519                  Aguacate Maduro  Frescos     Mercado   3.99   \n",
       "2  43876        Plátano de Canarias Verde  Frescos     Mercado   2.47   \n",
       "3  42501       Plátano de Canarias Maduro  Frescos     Mercado   2.47   \n",
       "4  42535           Fresas de Maresme 500g  Frescos     Mercado   3.98   \n",
       "\n",
       "  currency                            brand  \n",
       "0      EUR  Fruites i  Verdures Lluís Macià  \n",
       "1      EUR  Fruites i  Verdures Lluís Macià  \n",
       "2      EUR  Fruites i  Verdures Lluís Macià  \n",
       "3      EUR  Fruites i  Verdures Lluís Macià  \n",
       "4      EUR  Fruites i  Verdures Lluís Macià  "
      ]
     },
     "execution_count": 66,
     "metadata": {},
     "output_type": "execute_result"
    }
   ],
   "source": [
    "df_products.head()"
   ]
  },
  {
   "cell_type": "markdown",
   "metadata": {},
   "source": [
    "Then we export the final dataset to excel in the outputs folder."
   ]
  },
  {
   "cell_type": "code",
   "execution_count": 57,
   "metadata": {},
   "outputs": [],
   "source": [
    "df_products.to_csv(\"./outputs/ulabox_products.csv\")"
   ]
  },
  {
   "cell_type": "markdown",
   "metadata": {},
   "source": [
    "## Get current transfer"
   ]
  },
  {
   "cell_type": "code",
   "execution_count": 67,
   "metadata": {},
   "outputs": [],
   "source": [
    "import requests\n",
    "from pandas.io.json import json_normalize\n",
    "import pandas as pd"
   ]
  },
  {
   "cell_type": "code",
   "execution_count": 68,
   "metadata": {},
   "outputs": [],
   "source": [
    "blockchain_url = \"https://blockchain.info/ticker\"\n",
    "headers = {\"User-Agent\": \"Mozilla/5.0 (Macintosh; Intel Mac OS X 10_15_1) AppleWebKit/605.1.15 (KHTML, like Gecko) Version/13.0.3 Safari/605.1.15\" }  \n",
    "\n",
    "json = requests.get(blockchain_url, headers=headers).json()\n",
    "currencies_array = []\n",
    "\n",
    "for item in json:\n",
    "    json[item][\"Currency\"] = item\n",
    "    currencies_array.append(json[item])\n",
    "\n",
    "df_btc_prices = pd.DataFrame(currencies_array)"
   ]
  },
  {
   "cell_type": "code",
   "execution_count": 69,
   "metadata": {},
   "outputs": [
    {
     "data": {
      "text/html": [
       "<div>\n",
       "<style scoped>\n",
       "    .dataframe tbody tr th:only-of-type {\n",
       "        vertical-align: middle;\n",
       "    }\n",
       "\n",
       "    .dataframe tbody tr th {\n",
       "        vertical-align: top;\n",
       "    }\n",
       "\n",
       "    .dataframe thead th {\n",
       "        text-align: right;\n",
       "    }\n",
       "</style>\n",
       "<table border=\"1\" class=\"dataframe\">\n",
       "  <thead>\n",
       "    <tr style=\"text-align: right;\">\n",
       "      <th></th>\n",
       "      <th>15m</th>\n",
       "      <th>last</th>\n",
       "      <th>buy</th>\n",
       "      <th>sell</th>\n",
       "      <th>symbol</th>\n",
       "      <th>Currency</th>\n",
       "    </tr>\n",
       "  </thead>\n",
       "  <tbody>\n",
       "    <tr>\n",
       "      <td>0</td>\n",
       "      <td>9567.27</td>\n",
       "      <td>9567.27</td>\n",
       "      <td>9567.27</td>\n",
       "      <td>9567.27</td>\n",
       "      <td>$</td>\n",
       "      <td>USD</td>\n",
       "    </tr>\n",
       "    <tr>\n",
       "      <td>1</td>\n",
       "      <td>14329.89</td>\n",
       "      <td>14329.89</td>\n",
       "      <td>14329.89</td>\n",
       "      <td>14329.89</td>\n",
       "      <td>$</td>\n",
       "      <td>AUD</td>\n",
       "    </tr>\n",
       "    <tr>\n",
       "      <td>2</td>\n",
       "      <td>41767.82</td>\n",
       "      <td>41767.82</td>\n",
       "      <td>41767.82</td>\n",
       "      <td>41767.82</td>\n",
       "      <td>R$</td>\n",
       "      <td>BRL</td>\n",
       "    </tr>\n",
       "    <tr>\n",
       "      <td>3</td>\n",
       "      <td>12642.67</td>\n",
       "      <td>12642.67</td>\n",
       "      <td>12642.67</td>\n",
       "      <td>12642.67</td>\n",
       "      <td>$</td>\n",
       "      <td>CAD</td>\n",
       "    </tr>\n",
       "    <tr>\n",
       "      <td>4</td>\n",
       "      <td>9400.18</td>\n",
       "      <td>9400.18</td>\n",
       "      <td>9400.18</td>\n",
       "      <td>9400.18</td>\n",
       "      <td>CHF</td>\n",
       "      <td>CHF</td>\n",
       "    </tr>\n",
       "  </tbody>\n",
       "</table>\n",
       "</div>"
      ],
      "text/plain": [
       "        15m      last       buy      sell symbol Currency\n",
       "0   9567.27   9567.27   9567.27   9567.27      $      USD\n",
       "1  14329.89  14329.89  14329.89  14329.89      $      AUD\n",
       "2  41767.82  41767.82  41767.82  41767.82     R$      BRL\n",
       "3  12642.67  12642.67  12642.67  12642.67      $      CAD\n",
       "4   9400.18   9400.18   9400.18   9400.18    CHF      CHF"
      ]
     },
     "execution_count": 69,
     "metadata": {},
     "output_type": "execute_result"
    }
   ],
   "source": [
    "df_btc_prices.head()"
   ]
  },
  {
   "cell_type": "code",
   "execution_count": 70,
   "metadata": {},
   "outputs": [],
   "source": [
    "df_btc_prices.to_csv(\"./outputs/btc_prices_currencies.csv\")"
   ]
  },
  {
   "cell_type": "markdown",
   "metadata": {},
   "source": [
    "## Merge"
   ]
  },
  {
   "cell_type": "code",
   "execution_count": null,
   "metadata": {},
   "outputs": [],
   "source": []
  },
  {
   "cell_type": "code",
   "execution_count": 71,
   "metadata": {},
   "outputs": [],
   "source": [
    "def get_value_from_currency(value):\n",
    "    index = df_btc_prices[df_btc_prices['Currency'] == value].index.tolist()[0]\n",
    "    return df_btc_prices[\"last\"][index]\n",
    "\n",
    "def price_to_btc(row):\n",
    "    currency = row['currency']\n",
    "    price = row[\"price\"]\n",
    "    btc_price = get_value_from_currency(currency)\n",
    "    return price / btc_price"
   ]
  },
  {
   "cell_type": "code",
   "execution_count": 72,
   "metadata": {},
   "outputs": [],
   "source": [
    "df_products['price_btc'] = df_products.apply(lambda row: price_to_btc(row), axis=1)"
   ]
  },
  {
   "cell_type": "code",
   "execution_count": 73,
   "metadata": {},
   "outputs": [
    {
     "data": {
      "text/html": [
       "<div>\n",
       "<style scoped>\n",
       "    .dataframe tbody tr th:only-of-type {\n",
       "        vertical-align: middle;\n",
       "    }\n",
       "\n",
       "    .dataframe tbody tr th {\n",
       "        vertical-align: top;\n",
       "    }\n",
       "\n",
       "    .dataframe thead th {\n",
       "        text-align: right;\n",
       "    }\n",
       "</style>\n",
       "<table border=\"1\" class=\"dataframe\">\n",
       "  <thead>\n",
       "    <tr style=\"text-align: right;\">\n",
       "      <th></th>\n",
       "      <th>id</th>\n",
       "      <th>name</th>\n",
       "      <th>category</th>\n",
       "      <th>subcategory</th>\n",
       "      <th>price</th>\n",
       "      <th>currency</th>\n",
       "      <th>brand</th>\n",
       "      <th>price_btc</th>\n",
       "    </tr>\n",
       "  </thead>\n",
       "  <tbody>\n",
       "    <tr>\n",
       "      <td>0</td>\n",
       "      <td>54521</td>\n",
       "      <td>Ensalada Mezclum Petit Plà 250g</td>\n",
       "      <td>Frescos</td>\n",
       "      <td>Mercado</td>\n",
       "      <td>2.98</td>\n",
       "      <td>EUR</td>\n",
       "      <td>Fruites i  Verdures Lluís Macià</td>\n",
       "      <td>0.000336</td>\n",
       "    </tr>\n",
       "    <tr>\n",
       "      <td>1</td>\n",
       "      <td>42519</td>\n",
       "      <td>Aguacate Maduro</td>\n",
       "      <td>Frescos</td>\n",
       "      <td>Mercado</td>\n",
       "      <td>3.99</td>\n",
       "      <td>EUR</td>\n",
       "      <td>Fruites i  Verdures Lluís Macià</td>\n",
       "      <td>0.000450</td>\n",
       "    </tr>\n",
       "    <tr>\n",
       "      <td>2</td>\n",
       "      <td>43876</td>\n",
       "      <td>Plátano de Canarias Verde</td>\n",
       "      <td>Frescos</td>\n",
       "      <td>Mercado</td>\n",
       "      <td>2.47</td>\n",
       "      <td>EUR</td>\n",
       "      <td>Fruites i  Verdures Lluís Macià</td>\n",
       "      <td>0.000278</td>\n",
       "    </tr>\n",
       "    <tr>\n",
       "      <td>3</td>\n",
       "      <td>42501</td>\n",
       "      <td>Plátano de Canarias Maduro</td>\n",
       "      <td>Frescos</td>\n",
       "      <td>Mercado</td>\n",
       "      <td>2.47</td>\n",
       "      <td>EUR</td>\n",
       "      <td>Fruites i  Verdures Lluís Macià</td>\n",
       "      <td>0.000278</td>\n",
       "    </tr>\n",
       "    <tr>\n",
       "      <td>4</td>\n",
       "      <td>42535</td>\n",
       "      <td>Fresas de Maresme 500g</td>\n",
       "      <td>Frescos</td>\n",
       "      <td>Mercado</td>\n",
       "      <td>3.98</td>\n",
       "      <td>EUR</td>\n",
       "      <td>Fruites i  Verdures Lluís Macià</td>\n",
       "      <td>0.000448</td>\n",
       "    </tr>\n",
       "  </tbody>\n",
       "</table>\n",
       "</div>"
      ],
      "text/plain": [
       "      id                             name category subcategory  price  \\\n",
       "0  54521  Ensalada Mezclum Petit Plà 250g  Frescos     Mercado   2.98   \n",
       "1  42519                  Aguacate Maduro  Frescos     Mercado   3.99   \n",
       "2  43876        Plátano de Canarias Verde  Frescos     Mercado   2.47   \n",
       "3  42501       Plátano de Canarias Maduro  Frescos     Mercado   2.47   \n",
       "4  42535           Fresas de Maresme 500g  Frescos     Mercado   3.98   \n",
       "\n",
       "  currency                            brand  price_btc  \n",
       "0      EUR  Fruites i  Verdures Lluís Macià   0.000336  \n",
       "1      EUR  Fruites i  Verdures Lluís Macià   0.000450  \n",
       "2      EUR  Fruites i  Verdures Lluís Macià   0.000278  \n",
       "3      EUR  Fruites i  Verdures Lluís Macià   0.000278  \n",
       "4      EUR  Fruites i  Verdures Lluís Macià   0.000448  "
      ]
     },
     "execution_count": 73,
     "metadata": {},
     "output_type": "execute_result"
    }
   ],
   "source": [
    "df_products.head()"
   ]
  },
  {
   "cell_type": "code",
   "execution_count": null,
   "metadata": {},
   "outputs": [],
   "source": [
    "df_btc_prices.to_csv(\"./outputs/final_ulabox_products.csv\")"
   ]
  }
 ],
 "metadata": {
  "kernelspec": {
   "display_name": "Python 3",
   "language": "python",
   "name": "python3"
  },
  "language_info": {
   "codemirror_mode": {
    "name": "ipython",
    "version": 3
   },
   "file_extension": ".py",
   "mimetype": "text/x-python",
   "name": "python",
   "nbconvert_exporter": "python",
   "pygments_lexer": "ipython3",
   "version": "3.7.4"
  }
 },
 "nbformat": 4,
 "nbformat_minor": 2
}
