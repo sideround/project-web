{
 "cells": [
  {
   "cell_type": "markdown",
   "metadata": {},
   "source": [
    "#   Project web: How much does your groceries cost in Bitcoin? "
   ]
  },
  {
   "cell_type": "markdown",
   "metadata": {},
   "source": [
    "Isaac Rodriguez\n",
    "\n",
    "*Data Part Time Barcelona Dic 2019*"
   ]
  },
  {
   "cell_type": "markdown",
   "metadata": {},
   "source": [
    "## Content\n",
    "- [Project Description](#project)\n",
    "- [Web scraping section](#web)\n",
    "- [API Section](#api)\n",
    "- [Merge datasets section](#merge)\n",
    "\n",
    "\n",
    "<a name=\"project\"></a>\n",
    "## Project Description\n",
    "Goal of this project is to choose an API to obtain data from and a web page to scrape, convert it into a Pandas data frame, and export it as a CSV file."
   ]
  },
  {
   "cell_type": "markdown",
   "metadata": {},
   "source": [
    "<a name=\"web\"></a>\n",
    "\n",
    "## Get all items from Ulabox. Web scraping. "
   ]
  },
  {
   "cell_type": "code",
   "execution_count": 38,
   "metadata": {},
   "outputs": [],
   "source": [
    "import requests\n",
    "import pandas as pd\n",
    "from bs4 import BeautifulSoup"
   ]
  },
  {
   "cell_type": "markdown",
   "metadata": {},
   "source": [
    "### Generic functions"
   ]
  },
  {
   "cell_type": "markdown",
   "metadata": {},
   "source": [
    "In this section we are going to put the generic functions used to get items from ulabox website."
   ]
  },
  {
   "cell_type": "code",
   "execution_count": 24,
   "metadata": {},
   "outputs": [],
   "source": [
    "ulabox_web = \"https://ulabox.com/\""
   ]
  },
  {
   "cell_type": "code",
   "execution_count": 25,
   "metadata": {},
   "outputs": [],
   "source": [
    "#This functions recieves an string and converts it to utf-8 format.\n",
    "def change_format_to_utf8(string):\n",
    "    return string.encode('latin-1', 'replace').decode('utf-8', 'replace')"
   ]
  },
  {
   "cell_type": "markdown",
   "metadata": {},
   "source": [
    "### Get categories"
   ]
  },
  {
   "cell_type": "markdown",
   "metadata": {},
   "source": [
    "After reviewing how the website is designed, we will first get all the categories with its link to be scraped later."
   ]
  },
  {
   "cell_type": "code",
   "execution_count": 4,
   "metadata": {
    "scrolled": true
   },
   "outputs": [],
   "source": [
    "ulabox_content = requests.get(ulabox_web).content\n",
    "ulabox_soup = BeautifulSoup(ulabox_content, \"lxml\")\n",
    "table = ulabox_soup.find_all(\"ul\", {\"class\": \"list-dropdown\"})[0]\n",
    "\n",
    "rows = table.find_all(\"li\")\n",
    "links = [row.find(\"a\", {\"class\": \"list-dropdown-item__link list-dropdown-item-link | js-pjax js-track-ui js-updatable-track\"}) for row in rows]\n",
    "\n",
    "links = [link.get(\"href\").split(\"?ula_src=\")[0] for link in links if link]\n",
    "rows = [change_format_to_utf8(row.text.strip()) for row in rows]\n",
    "\n",
    "# Got all the categories from the ulabox website.\n",
    "df_categories = pd.DataFrame({\"Categories\": rows[1:], \"Links\": links})"
   ]
  },
  {
   "cell_type": "markdown",
   "metadata": {},
   "source": [
    "### Get subcategories from each category"
   ]
  },
  {
   "cell_type": "markdown",
   "metadata": {},
   "source": [
    "In this section we will get all subcategories from each category. To do it, we first get the content from the category link, scrape it to get the subcategory and link related to it."
   ]
  },
  {
   "cell_type": "code",
   "execution_count": 26,
   "metadata": {},
   "outputs": [],
   "source": [
    "df_subcategories = pd.DataFrame()\n",
    "\n",
    "for index, row in df_categories.iterrows():\n",
    "    ulabox_subcategory_web = ulabox_web + row['Links']\n",
    "    ulabox_content = requests.get(ulabox_subcategory_web).content\n",
    "    ulabox_soap = BeautifulSoup(ulabox_content, \"lxml\")\n",
    "    \n",
    "    table = ulabox_soap.find_all(\"div\", {\"class\": \"col-xs-12 col-sm-4\"})\n",
    "    items = [row.find_all(\"h2\", {\"class\": \"category-item__name epsilon islet brand-face\"}) for row in table]\n",
    "    links = [row.find_all(\"a\") for row in table]\n",
    "    items_name = [change_format_to_utf8(item[0].text) for item in items]\n",
    "    links_name = [item[0].get(\"href\").split(\"?ula_src=\")[0] for item in links]\n",
    "    \n",
    "    for index, item in enumerate(table):\n",
    "        subitems = item.find_all(\"ul\", {\"class\": \"soft-half--sides soft-half--top | unlist\"})\n",
    "        subitems = item.find_all(\"li\", {\"class\": \"selectable-item | weak-text-color milli | flush--bottom\"})\n",
    "        subitems = [change_format_to_utf8(item.text) for item in subitems]\n",
    "        \n",
    "        d = {row['Categories']: [items_name[index], links_name[index]]}\n",
    "        df_subcategories = df_subcategories.append(pd.DataFrame.from_dict(d, orient = 'index', columns= [\"Subcategory\", \"Links\"]))\n",
    "        \n",
    "        # Our index is the category as it was the key from the dictionary. We set it on a different column.\n",
    "        df_subcategories['Category'] = df_subcategories.index"
   ]
  },
  {
   "cell_type": "markdown",
   "metadata": {},
   "source": [
    "We reset the index making it numerical."
   ]
  },
  {
   "cell_type": "code",
   "execution_count": 27,
   "metadata": {},
   "outputs": [
    {
     "data": {
      "text/html": [
       "<div>\n",
       "<style scoped>\n",
       "    .dataframe tbody tr th:only-of-type {\n",
       "        vertical-align: middle;\n",
       "    }\n",
       "\n",
       "    .dataframe tbody tr th {\n",
       "        vertical-align: top;\n",
       "    }\n",
       "\n",
       "    .dataframe thead th {\n",
       "        text-align: right;\n",
       "    }\n",
       "</style>\n",
       "<table border=\"1\" class=\"dataframe\">\n",
       "  <thead>\n",
       "    <tr style=\"text-align: right;\">\n",
       "      <th></th>\n",
       "      <th>Category</th>\n",
       "      <th>Links</th>\n",
       "      <th>Subcategory</th>\n",
       "    </tr>\n",
       "  </thead>\n",
       "  <tbody>\n",
       "    <tr>\n",
       "      <td>0</td>\n",
       "      <td>Frescos</td>\n",
       "      <td>/categoria/mercado/2493</td>\n",
       "      <td>Mercado</td>\n",
       "    </tr>\n",
       "    <tr>\n",
       "      <td>1</td>\n",
       "      <td>Frescos</td>\n",
       "      <td>/categoria/frescos-de-temporada/2232</td>\n",
       "      <td>Frescos de Temporada</td>\n",
       "    </tr>\n",
       "    <tr>\n",
       "      <td>2</td>\n",
       "      <td>Frescos</td>\n",
       "      <td>/categoria/frescos-ecologicos/2253</td>\n",
       "      <td>Frescos Ecológicos</td>\n",
       "    </tr>\n",
       "    <tr>\n",
       "      <td>3</td>\n",
       "      <td>Frescos</td>\n",
       "      <td>/categoria/frutas/1582</td>\n",
       "      <td>Frutas</td>\n",
       "    </tr>\n",
       "    <tr>\n",
       "      <td>4</td>\n",
       "      <td>Frescos</td>\n",
       "      <td>/categoria/pollo-y-aves/2559</td>\n",
       "      <td>Pollo y Aves</td>\n",
       "    </tr>\n",
       "    <tr>\n",
       "      <td>...</td>\n",
       "      <td>...</td>\n",
       "      <td>...</td>\n",
       "      <td>...</td>\n",
       "    </tr>\n",
       "    <tr>\n",
       "      <td>81</td>\n",
       "      <td>Parafarmacia</td>\n",
       "      <td>/categoria/cuidado-capilar/664</td>\n",
       "      <td>Cuidado Capilar</td>\n",
       "    </tr>\n",
       "    <tr>\n",
       "      <td>82</td>\n",
       "      <td>Parafarmacia</td>\n",
       "      <td>/categoria/alimentacion-y-cuidado-infantil/1314</td>\n",
       "      <td>Alimentación y Cuidado Infantil</td>\n",
       "    </tr>\n",
       "    <tr>\n",
       "      <td>83</td>\n",
       "      <td>Mascotas</td>\n",
       "      <td>/categoria/perros/696</td>\n",
       "      <td>Perros</td>\n",
       "    </tr>\n",
       "    <tr>\n",
       "      <td>84</td>\n",
       "      <td>Mascotas</td>\n",
       "      <td>/categoria/gatos/700</td>\n",
       "      <td>Gatos</td>\n",
       "    </tr>\n",
       "    <tr>\n",
       "      <td>85</td>\n",
       "      <td>Mascotas</td>\n",
       "      <td>/categoria/otras-mascotas/705</td>\n",
       "      <td>Otras Mascotas</td>\n",
       "    </tr>\n",
       "  </tbody>\n",
       "</table>\n",
       "<p>86 rows × 3 columns</p>\n",
       "</div>"
      ],
      "text/plain": [
       "        Category                                            Links  \\\n",
       "0        Frescos                          /categoria/mercado/2493   \n",
       "1        Frescos             /categoria/frescos-de-temporada/2232   \n",
       "2        Frescos               /categoria/frescos-ecologicos/2253   \n",
       "3        Frescos                           /categoria/frutas/1582   \n",
       "4        Frescos                     /categoria/pollo-y-aves/2559   \n",
       "..           ...                                              ...   \n",
       "81  Parafarmacia                   /categoria/cuidado-capilar/664   \n",
       "82  Parafarmacia  /categoria/alimentacion-y-cuidado-infantil/1314   \n",
       "83      Mascotas                            /categoria/perros/696   \n",
       "84      Mascotas                             /categoria/gatos/700   \n",
       "85      Mascotas                    /categoria/otras-mascotas/705   \n",
       "\n",
       "                        Subcategory  \n",
       "0                           Mercado  \n",
       "1              Frescos de Temporada  \n",
       "2                Frescos Ecológicos  \n",
       "3                            Frutas  \n",
       "4                      Pollo y Aves  \n",
       "..                              ...  \n",
       "81                  Cuidado Capilar  \n",
       "82  Alimentación y Cuidado Infantil  \n",
       "83                           Perros  \n",
       "84                            Gatos  \n",
       "85                   Otras Mascotas  \n",
       "\n",
       "[86 rows x 3 columns]"
      ]
     },
     "execution_count": 27,
     "metadata": {},
     "output_type": "execute_result"
    }
   ],
   "source": [
    "df_subcategories.reset_index(drop=True)"
   ]
  },
  {
   "cell_type": "markdown",
   "metadata": {},
   "source": [
    "### Get items from each subcategory"
   ]
  },
  {
   "cell_type": "markdown",
   "metadata": {},
   "source": [
    "Now we already have the category and subcategory so we will enter to each subcategory link. We will save the name, category, subcategory, price, currency and brand from each item."
   ]
  },
  {
   "cell_type": "code",
   "execution_count": 8,
   "metadata": {},
   "outputs": [],
   "source": [
    "df_products = pd.DataFrame()\n",
    "\n",
    "for index, row in df_subcategories.iterrows():\n",
    "    ulabox_products_web = ulabox_web + row['Links']\n",
    "    ulabox_content = requests.get(ulabox_products_web).content\n",
    "    ulabox_soap = BeautifulSoup(ulabox_content, \"lxml\")\n",
    "    \n",
    "    if ulabox_soap.find_all(\"section\", {\"class\": \"product-list\"}): \n",
    "        table = ulabox_soap.find_all(\"section\", {\"class\": \"product-list\"})[0]\n",
    "        items = table.find_all(\"div\", {\"class\": \"grid__item m-one-whole t-one-third d-one-third dw-one-quarter | js-product-grid-grid\"})\n",
    "        item = [item.find_all(\"article\")[0] for item in items if len(item.find_all(\"article\")) > 0]\n",
    "\n",
    "        product_price = [item.get(\"data-price\") for item in item]\n",
    "        product_id = [item.get(\"data-product-id\") for item in item]\n",
    "        product_brand = [change_format_to_utf8(item.get(\"data-product-brand\")) for item in item]\n",
    "        product_name = [change_format_to_utf8(item.get(\"data-product-name\")) for item in item]\n",
    "\n",
    "        df_products = df_products.append(pd.DataFrame({\"id\": product_id, \"name\": product_name, \"category\": row['Category'], \"subcategory\": row['Subcategory'], \"price\": product_price, \"currency\": \"EUR\", \"brand\": product_brand}))"
   ]
  },
  {
   "cell_type": "markdown",
   "metadata": {},
   "source": [
    "We saved the price as string so we convert it whole column to float."
   ]
  },
  {
   "cell_type": "code",
   "execution_count": 9,
   "metadata": {},
   "outputs": [],
   "source": [
    "df_products['price'] = df_products['price'].astype(float)"
   ]
  },
  {
   "cell_type": "markdown",
   "metadata": {},
   "source": [
    "As the current products dataframe is a mix of each subcategory, the index is not homogenic. In this function we will reset to make it incremental."
   ]
  },
  {
   "cell_type": "code",
   "execution_count": 10,
   "metadata": {},
   "outputs": [],
   "source": [
    "df_products.reset_index(drop=True, inplace=True)"
   ]
  },
  {
   "cell_type": "markdown",
   "metadata": {},
   "source": [
    "Our final dataset."
   ]
  },
  {
   "cell_type": "code",
   "execution_count": 11,
   "metadata": {},
   "outputs": [
    {
     "data": {
      "text/html": [
       "<div>\n",
       "<style scoped>\n",
       "    .dataframe tbody tr th:only-of-type {\n",
       "        vertical-align: middle;\n",
       "    }\n",
       "\n",
       "    .dataframe tbody tr th {\n",
       "        vertical-align: top;\n",
       "    }\n",
       "\n",
       "    .dataframe thead th {\n",
       "        text-align: right;\n",
       "    }\n",
       "</style>\n",
       "<table border=\"1\" class=\"dataframe\">\n",
       "  <thead>\n",
       "    <tr style=\"text-align: right;\">\n",
       "      <th></th>\n",
       "      <th>id</th>\n",
       "      <th>name</th>\n",
       "      <th>category</th>\n",
       "      <th>subcategory</th>\n",
       "      <th>price</th>\n",
       "      <th>currency</th>\n",
       "      <th>brand</th>\n",
       "    </tr>\n",
       "  </thead>\n",
       "  <tbody>\n",
       "    <tr>\n",
       "      <td>0</td>\n",
       "      <td>54521</td>\n",
       "      <td>Ensalada Mezclum Petit Plà 250g</td>\n",
       "      <td>Frescos</td>\n",
       "      <td>Mercado</td>\n",
       "      <td>2.98</td>\n",
       "      <td>EUR</td>\n",
       "      <td>Fruites i  Verdures Lluís Macià</td>\n",
       "    </tr>\n",
       "    <tr>\n",
       "      <td>1</td>\n",
       "      <td>42519</td>\n",
       "      <td>Aguacate Maduro</td>\n",
       "      <td>Frescos</td>\n",
       "      <td>Mercado</td>\n",
       "      <td>3.99</td>\n",
       "      <td>EUR</td>\n",
       "      <td>Fruites i  Verdures Lluís Macià</td>\n",
       "    </tr>\n",
       "    <tr>\n",
       "      <td>2</td>\n",
       "      <td>43876</td>\n",
       "      <td>Plátano de Canarias Verde</td>\n",
       "      <td>Frescos</td>\n",
       "      <td>Mercado</td>\n",
       "      <td>2.47</td>\n",
       "      <td>EUR</td>\n",
       "      <td>Fruites i  Verdures Lluís Macià</td>\n",
       "    </tr>\n",
       "    <tr>\n",
       "      <td>3</td>\n",
       "      <td>42501</td>\n",
       "      <td>Plátano de Canarias Maduro</td>\n",
       "      <td>Frescos</td>\n",
       "      <td>Mercado</td>\n",
       "      <td>2.47</td>\n",
       "      <td>EUR</td>\n",
       "      <td>Fruites i  Verdures Lluís Macià</td>\n",
       "    </tr>\n",
       "    <tr>\n",
       "      <td>4</td>\n",
       "      <td>42535</td>\n",
       "      <td>Fresas de Maresme 500g</td>\n",
       "      <td>Frescos</td>\n",
       "      <td>Mercado</td>\n",
       "      <td>3.98</td>\n",
       "      <td>EUR</td>\n",
       "      <td>Fruites i  Verdures Lluís Macià</td>\n",
       "    </tr>\n",
       "  </tbody>\n",
       "</table>\n",
       "</div>"
      ],
      "text/plain": [
       "      id                             name category subcategory  price  \\\n",
       "0  54521  Ensalada Mezclum Petit Plà 250g  Frescos     Mercado   2.98   \n",
       "1  42519                  Aguacate Maduro  Frescos     Mercado   3.99   \n",
       "2  43876        Plátano de Canarias Verde  Frescos     Mercado   2.47   \n",
       "3  42501       Plátano de Canarias Maduro  Frescos     Mercado   2.47   \n",
       "4  42535           Fresas de Maresme 500g  Frescos     Mercado   3.98   \n",
       "\n",
       "  currency                            brand  \n",
       "0      EUR  Fruites i  Verdures Lluís Macià  \n",
       "1      EUR  Fruites i  Verdures Lluís Macià  \n",
       "2      EUR  Fruites i  Verdures Lluís Macià  \n",
       "3      EUR  Fruites i  Verdures Lluís Macià  \n",
       "4      EUR  Fruites i  Verdures Lluís Macià  "
      ]
     },
     "execution_count": 11,
     "metadata": {},
     "output_type": "execute_result"
    }
   ],
   "source": [
    "df_products.head()"
   ]
  },
  {
   "cell_type": "markdown",
   "metadata": {},
   "source": [
    "To finalize this part, we export the dataset to final excel to outputs folder."
   ]
  },
  {
   "cell_type": "code",
   "execution_count": 12,
   "metadata": {},
   "outputs": [],
   "source": [
    "df_products.to_csv(\"./outputs/web_scraping_items.csv\")"
   ]
  },
  {
   "cell_type": "markdown",
   "metadata": {},
   "source": [
    "<a name=\"api\"></a>\n",
    "## Get BTC Price. API section."
   ]
  },
  {
   "cell_type": "code",
   "execution_count": 28,
   "metadata": {},
   "outputs": [],
   "source": [
    "import requests\n",
    "import pandas as pd\n",
    "from pandas.io.json import json_normalize"
   ]
  },
  {
   "cell_type": "markdown",
   "metadata": {},
   "source": [
    "### Generic functions."
   ]
  },
  {
   "cell_type": "code",
   "execution_count": 29,
   "metadata": {},
   "outputs": [],
   "source": [
    "blockchain_url = \"https://blockchain.info/ticker\"\n",
    "headers = {\"User-Agent\": \"Mozilla/5.0 (Macintosh; Intel Mac OS X 10_15_1) AppleWebKit/605.1.15 (KHTML, like Gecko) Version/13.0.3 Safari/605.1.15\" }  "
   ]
  },
  {
   "cell_type": "markdown",
   "metadata": {},
   "source": [
    "### Get current btc price"
   ]
  },
  {
   "cell_type": "code",
   "execution_count": 30,
   "metadata": {},
   "outputs": [],
   "source": [
    "json = requests.get(blockchain_url, headers=headers).json()\n",
    "currencies_array = []\n",
    "\n",
    "for item in json:\n",
    "    json[item][\"Currency\"] = item\n",
    "    currencies_array.append(json[item])\n",
    "\n",
    "df_btc_prices = pd.DataFrame(currencies_array)"
   ]
  },
  {
   "cell_type": "code",
   "execution_count": 31,
   "metadata": {},
   "outputs": [
    {
     "data": {
      "text/html": [
       "<div>\n",
       "<style scoped>\n",
       "    .dataframe tbody tr th:only-of-type {\n",
       "        vertical-align: middle;\n",
       "    }\n",
       "\n",
       "    .dataframe tbody tr th {\n",
       "        vertical-align: top;\n",
       "    }\n",
       "\n",
       "    .dataframe thead th {\n",
       "        text-align: right;\n",
       "    }\n",
       "</style>\n",
       "<table border=\"1\" class=\"dataframe\">\n",
       "  <thead>\n",
       "    <tr style=\"text-align: right;\">\n",
       "      <th></th>\n",
       "      <th>15m</th>\n",
       "      <th>last</th>\n",
       "      <th>buy</th>\n",
       "      <th>sell</th>\n",
       "      <th>symbol</th>\n",
       "      <th>Currency</th>\n",
       "    </tr>\n",
       "  </thead>\n",
       "  <tbody>\n",
       "    <tr>\n",
       "      <td>0</td>\n",
       "      <td>9546.87</td>\n",
       "      <td>9546.87</td>\n",
       "      <td>9546.87</td>\n",
       "      <td>9546.87</td>\n",
       "      <td>$</td>\n",
       "      <td>USD</td>\n",
       "    </tr>\n",
       "    <tr>\n",
       "      <td>1</td>\n",
       "      <td>14393.55</td>\n",
       "      <td>14393.55</td>\n",
       "      <td>14393.55</td>\n",
       "      <td>14393.55</td>\n",
       "      <td>$</td>\n",
       "      <td>AUD</td>\n",
       "    </tr>\n",
       "    <tr>\n",
       "      <td>2</td>\n",
       "      <td>41673.03</td>\n",
       "      <td>41673.03</td>\n",
       "      <td>41673.03</td>\n",
       "      <td>41673.03</td>\n",
       "      <td>R$</td>\n",
       "      <td>BRL</td>\n",
       "    </tr>\n",
       "    <tr>\n",
       "      <td>3</td>\n",
       "      <td>12656.99</td>\n",
       "      <td>12656.99</td>\n",
       "      <td>12656.99</td>\n",
       "      <td>12656.99</td>\n",
       "      <td>$</td>\n",
       "      <td>CAD</td>\n",
       "    </tr>\n",
       "    <tr>\n",
       "      <td>4</td>\n",
       "      <td>9381.41</td>\n",
       "      <td>9381.41</td>\n",
       "      <td>9381.41</td>\n",
       "      <td>9381.41</td>\n",
       "      <td>CHF</td>\n",
       "      <td>CHF</td>\n",
       "    </tr>\n",
       "  </tbody>\n",
       "</table>\n",
       "</div>"
      ],
      "text/plain": [
       "        15m      last       buy      sell symbol Currency\n",
       "0   9546.87   9546.87   9546.87   9546.87      $      USD\n",
       "1  14393.55  14393.55  14393.55  14393.55      $      AUD\n",
       "2  41673.03  41673.03  41673.03  41673.03     R$      BRL\n",
       "3  12656.99  12656.99  12656.99  12656.99      $      CAD\n",
       "4   9381.41   9381.41   9381.41   9381.41    CHF      CHF"
      ]
     },
     "execution_count": 31,
     "metadata": {},
     "output_type": "execute_result"
    }
   ],
   "source": [
    "df_btc_prices.head()"
   ]
  },
  {
   "cell_type": "code",
   "execution_count": 32,
   "metadata": {},
   "outputs": [],
   "source": [
    "df_btc_prices.to_csv(\"./outputs/api_btc_currencies.csv\")"
   ]
  },
  {
   "cell_type": "markdown",
   "metadata": {},
   "source": [
    "<a name=\"merge\"></a>\n",
    "## Merge the two datasets."
   ]
  },
  {
   "cell_type": "markdown",
   "metadata": {},
   "source": [
    "### Generic functions."
   ]
  },
  {
   "cell_type": "markdown",
   "metadata": {},
   "source": [
    "Convert eur price to btc format."
   ]
  },
  {
   "cell_type": "code",
   "execution_count": null,
   "metadata": {},
   "outputs": [],
   "source": [
    "def price_to_btc(row):\n",
    "    currency = row['currency']\n",
    "    price = row[\"price\"]\n",
    "    btc_price = get_value_from_currency(currency)\n",
    "    return price / btc_price"
   ]
  },
  {
   "cell_type": "markdown",
   "metadata": {},
   "source": [
    "Convert btc price to satoshi format."
   ]
  },
  {
   "cell_type": "code",
   "execution_count": 33,
   "metadata": {},
   "outputs": [],
   "source": [
    "def btc_to_satoshi(row):\n",
    "    price = row['price_btc']\n",
    "    return price * 100000000\n",
    "\n",
    "# Get price value based on the currency.\n",
    "def get_value_from_currency(value):\n",
    "    index = df_btc_prices[df_btc_prices['Currency'] == value].index.tolist()[0]\n",
    "    return df_btc_prices[\"last\"][index]"
   ]
  },
  {
   "cell_type": "markdown",
   "metadata": {},
   "source": [
    "New column with the price from each item converted in bitcoin."
   ]
  },
  {
   "cell_type": "code",
   "execution_count": 18,
   "metadata": {},
   "outputs": [],
   "source": [
    "df_products['price_btc'] = df_products.apply(lambda row: price_to_btc(row), axis=1)"
   ]
  },
  {
   "cell_type": "markdown",
   "metadata": {},
   "source": [
    "New column with the price from each btc price in satoshi format."
   ]
  },
  {
   "cell_type": "code",
   "execution_count": 34,
   "metadata": {},
   "outputs": [],
   "source": [
    "df_products['price_satoshi'] = df_products.apply(lambda row: btc_to_satoshi(row), axis=1)"
   ]
  },
  {
   "cell_type": "code",
   "execution_count": 37,
   "metadata": {},
   "outputs": [
    {
     "data": {
      "text/html": [
       "<div>\n",
       "<style scoped>\n",
       "    .dataframe tbody tr th:only-of-type {\n",
       "        vertical-align: middle;\n",
       "    }\n",
       "\n",
       "    .dataframe tbody tr th {\n",
       "        vertical-align: top;\n",
       "    }\n",
       "\n",
       "    .dataframe thead th {\n",
       "        text-align: right;\n",
       "    }\n",
       "</style>\n",
       "<table border=\"1\" class=\"dataframe\">\n",
       "  <thead>\n",
       "    <tr style=\"text-align: right;\">\n",
       "      <th></th>\n",
       "      <th>id</th>\n",
       "      <th>name</th>\n",
       "      <th>category</th>\n",
       "      <th>subcategory</th>\n",
       "      <th>price</th>\n",
       "      <th>currency</th>\n",
       "      <th>brand</th>\n",
       "      <th>price_btc</th>\n",
       "      <th>price_satoshi</th>\n",
       "    </tr>\n",
       "  </thead>\n",
       "  <tbody>\n",
       "    <tr>\n",
       "      <td>0</td>\n",
       "      <td>54521</td>\n",
       "      <td>Ensalada Mezclum Petit Plà 250g</td>\n",
       "      <td>Frescos</td>\n",
       "      <td>Mercado</td>\n",
       "      <td>2.98</td>\n",
       "      <td>EUR</td>\n",
       "      <td>Fruites i  Verdures Lluís Macià</td>\n",
       "      <td>0.000335</td>\n",
       "      <td>33536.012388</td>\n",
       "    </tr>\n",
       "    <tr>\n",
       "      <td>1</td>\n",
       "      <td>42519</td>\n",
       "      <td>Aguacate Maduro</td>\n",
       "      <td>Frescos</td>\n",
       "      <td>Mercado</td>\n",
       "      <td>3.99</td>\n",
       "      <td>EUR</td>\n",
       "      <td>Fruites i  Verdures Lluís Macià</td>\n",
       "      <td>0.000449</td>\n",
       "      <td>44902.244775</td>\n",
       "    </tr>\n",
       "    <tr>\n",
       "      <td>2</td>\n",
       "      <td>43876</td>\n",
       "      <td>Plátano de Canarias Verde</td>\n",
       "      <td>Frescos</td>\n",
       "      <td>Mercado</td>\n",
       "      <td>2.47</td>\n",
       "      <td>EUR</td>\n",
       "      <td>Fruites i  Verdures Lluís Macià</td>\n",
       "      <td>0.000278</td>\n",
       "      <td>27796.627718</td>\n",
       "    </tr>\n",
       "    <tr>\n",
       "      <td>3</td>\n",
       "      <td>42501</td>\n",
       "      <td>Plátano de Canarias Maduro</td>\n",
       "      <td>Frescos</td>\n",
       "      <td>Mercado</td>\n",
       "      <td>2.47</td>\n",
       "      <td>EUR</td>\n",
       "      <td>Fruites i  Verdures Lluís Macià</td>\n",
       "      <td>0.000278</td>\n",
       "      <td>27796.627718</td>\n",
       "    </tr>\n",
       "    <tr>\n",
       "      <td>4</td>\n",
       "      <td>42535</td>\n",
       "      <td>Fresas de Maresme 500g</td>\n",
       "      <td>Frescos</td>\n",
       "      <td>Mercado</td>\n",
       "      <td>3.98</td>\n",
       "      <td>EUR</td>\n",
       "      <td>Fruites i  Verdures Lluís Macià</td>\n",
       "      <td>0.000448</td>\n",
       "      <td>44789.707820</td>\n",
       "    </tr>\n",
       "  </tbody>\n",
       "</table>\n",
       "</div>"
      ],
      "text/plain": [
       "      id                             name category subcategory  price  \\\n",
       "0  54521  Ensalada Mezclum Petit Plà 250g  Frescos     Mercado   2.98   \n",
       "1  42519                  Aguacate Maduro  Frescos     Mercado   3.99   \n",
       "2  43876        Plátano de Canarias Verde  Frescos     Mercado   2.47   \n",
       "3  42501       Plátano de Canarias Maduro  Frescos     Mercado   2.47   \n",
       "4  42535           Fresas de Maresme 500g  Frescos     Mercado   3.98   \n",
       "\n",
       "  currency                            brand  price_btc  price_satoshi  \n",
       "0      EUR  Fruites i  Verdures Lluís Macià   0.000335   33536.012388  \n",
       "1      EUR  Fruites i  Verdures Lluís Macià   0.000449   44902.244775  \n",
       "2      EUR  Fruites i  Verdures Lluís Macià   0.000278   27796.627718  \n",
       "3      EUR  Fruites i  Verdures Lluís Macià   0.000278   27796.627718  \n",
       "4      EUR  Fruites i  Verdures Lluís Macià   0.000448   44789.707820  "
      ]
     },
     "execution_count": 37,
     "metadata": {},
     "output_type": "execute_result"
    }
   ],
   "source": [
    "df_products.head()"
   ]
  },
  {
   "cell_type": "markdown",
   "metadata": {},
   "source": [
    "#### We finally export our final dataset! "
   ]
  },
  {
   "cell_type": "code",
   "execution_count": 36,
   "metadata": {},
   "outputs": [],
   "source": [
    "df_products.to_csv(\"./outputs/final_ulabox_products.csv\")"
   ]
  }
 ],
 "metadata": {
  "kernelspec": {
   "display_name": "Python 3",
   "language": "python",
   "name": "python3"
  },
  "language_info": {
   "codemirror_mode": {
    "name": "ipython",
    "version": 3
   },
   "file_extension": ".py",
   "mimetype": "text/x-python",
   "name": "python",
   "nbconvert_exporter": "python",
   "pygments_lexer": "ipython3",
   "version": "3.7.4"
  }
 },
 "nbformat": 4,
 "nbformat_minor": 2
}
